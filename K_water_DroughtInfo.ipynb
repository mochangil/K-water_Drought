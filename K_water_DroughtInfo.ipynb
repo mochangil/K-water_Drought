{
  "nbformat": 4,
  "nbformat_minor": 0,
  "metadata": {
    "colab": {
      "name": "K-water_DroughtInfo.ipynb",
      "provenance": [],
      "collapsed_sections": [
        "iqCxfJy9dWCo",
        "JEYAMqzWdM7j",
        "QfebaDyrFqtr",
        "-EwSPhyIdxzE"
      ],
      "toc_visible": true,
      "authorship_tag": "ABX9TyPmcA4ZOl3Lri4ly1FRcrrZ",
      "include_colab_link": true
    },
    "kernelspec": {
      "name": "python3",
      "display_name": "Python 3"
    },
    "language_info": {
      "name": "python"
    }
  },
  "cells": [
    {
      "cell_type": "markdown",
      "metadata": {
        "id": "view-in-github",
        "colab_type": "text"
      },
      "source": [
        "<a href=\"https://colab.research.google.com/github/mochangil/K-water_Drought/blob/main/K_water_DroughtInfo.ipynb\" target=\"_parent\"><img src=\"https://colab.research.google.com/assets/colab-badge.svg\" alt=\"Open In Colab\"/></a>"
      ]
    },
    {
      "cell_type": "markdown",
      "source": [
        "# 2007~2020까지의 가뭄 발생에 대한 피해내역\n",
        "공공데이터포털의 가뭄피해내역 csv파일 이용 (raw data)\n",
        "\n",
        "피해종료일이 0인 것과 피해인구가 0인 자료들은 이상치로 여겨 제외했습니다."
      ],
      "metadata": {
        "id": "vSC7bUco7NUA"
      }
    },
    {
      "cell_type": "markdown",
      "source": [
        "#드라이브 마운트"
      ],
      "metadata": {
        "id": "WK4b1g_T7BJl"
      }
    },
    {
      "cell_type": "code",
      "execution_count": 2,
      "metadata": {
        "id": "ke6A_iD9Wkeu",
        "colab": {
          "base_uri": "https://localhost:8080/"
        },
        "outputId": "9f506eed-7ad1-47be-aa93-c21ecc41fff5"
      },
      "outputs": [
        {
          "output_type": "stream",
          "name": "stdout",
          "text": [
            "Mounted at /content/drive\n"
          ]
        }
      ],
      "source": [
        "from google.colab import drive\n",
        "drive.mount('/content/drive')"
      ]
    },
    {
      "cell_type": "code",
      "source": [
        "import pandas as pd\n",
        "import numpy as np"
      ],
      "metadata": {
        "id": "UzzXQsjVKMyH"
      },
      "execution_count": 3,
      "outputs": []
    },
    {
      "cell_type": "code",
      "source": [
        "Drought_df = pd.read_csv('/content/drive/MyDrive/K-water/한국수자원공사가뭄피해내역.csv',encoding='cp949')"
      ],
      "metadata": {
        "id": "oVZ1Dlov-DZ6"
      },
      "execution_count": 4,
      "outputs": []
    },
    {
      "cell_type": "code",
      "source": [
        "Drought_df.columns"
      ],
      "metadata": {
        "id": "w4_v6lU0WtAU"
      },
      "execution_count": null,
      "outputs": []
    },
    {
      "cell_type": "markdown",
      "source": [
        "#데이터 전처리"
      ],
      "metadata": {
        "id": "iqCxfJy9dWCo"
      }
    },
    {
      "cell_type": "code",
      "source": [
        "#데이터 전처리 - 피해시작일, 피해종료일의 str to datetime, 피해지속기간 column 추가,\n",
        "# 피해종료일 누락 제외, 피해인구 0 제외\n",
        "def data_preprocessing():\n",
        "  Drought_df['피해시작일']=pd.to_datetime(Drought_df['피해시작일'])\n",
        "  Drought_df['피해종료일']=pd.to_datetime(Drought_df['피해종료일'])\n",
        "  Drought_df['피해지속기간'] = Drought_df['피해종료일']-Drought_df['피해시작일']\n",
        "for i in range(len(Drought_df['피해인구'])):\n",
        "    if Drought_df['피해인구'][i] == 0:\n",
        "      print(i)\n",
        "      Drought_df.drop(i)\n",
        "      i -= 1\n",
        "\n",
        "data_preprocessing()\n",
        "Drought_df"
      ],
      "metadata": {
        "id": "CRUBUTllL-wO"
      },
      "execution_count": null,
      "outputs": []
    },
    {
      "cell_type": "code",
      "source": [
        "Drought_df\n",
        "Drought_df['years']=Drought_df['피해시작일'].dt.year"
      ],
      "metadata": {
        "id": "QrUmLL_VVxVz"
      },
      "execution_count": 6,
      "outputs": []
    },
    {
      "cell_type": "markdown",
      "source": [
        "#구현할 api들\n",
        "0. 년도별, 시도별, 시군구별, 읍면동별 검색\n",
        "1. 년도별 발생지역 리스트\n",
        "2. 년도별, 지역별 피해지속기간 리스트\n",
        "3. (년도통합) 지역별 피해총인구, 피해총기간, 발생건수"
      ],
      "metadata": {
        "id": "FpqA59K4damd"
      }
    },
    {
      "cell_type": "markdown",
      "source": [
        "#0 to 2 : 년도별 구분"
      ],
      "metadata": {
        "id": "JEYAMqzWdM7j"
      }
    },
    {
      "cell_type": "code",
      "source": [
        "#1. 년도별 발생지역 리스트\n",
        "\n",
        "# loc 변수를 시도, 시군구, 읍면동 바꿈에 따라 나오는 리스트가 바뀐다.\n",
        "\n",
        "# 검색하고싶은 년도 입력\n",
        "year = 2018\n",
        "\n",
        "def location_per_year(currentyear):\n",
        "  is_exist =[]\n",
        "  # loc=Drought_df.loc[(Drought_df['years']==currentyear)]['시도']\n",
        "  loc=Drought_df.loc[(Drought_df['years']==currentyear)]['시군구']\n",
        "  #loc=Drought_df.loc[(Drought_df['years']==currentyear)]['읍면동']\n",
        "  for i in loc:\n",
        "    if i not in is_exist :\n",
        "      is_exist.append(i)\n",
        "    else:\n",
        "      continue\n",
        "  return is_exist\n",
        "\n",
        "# print(location_per_year(year))\n"
      ],
      "metadata": {
        "id": "Rw1q436-m38n"
      },
      "execution_count": null,
      "outputs": []
    },
    {
      "cell_type": "code",
      "source": [
        "datas = pd.DataFrame(columns=['년도','지역', '총인구(명)', '횟수', '총기간(일)','최대피해일수'])\n",
        "datas.loc[0]=['년도','지역', '총인구(명)', '횟수', '총기간(일)','최대피해일수']\n",
        "# print(datas)"
      ],
      "metadata": {
        "colab": {
          "base_uri": "https://localhost:8080/"
        },
        "id": "YitcbcKNY35H",
        "outputId": "744dff97-6fae-472c-f95e-85e23db1eb91"
      },
      "execution_count": null,
      "outputs": [
        {
          "output_type": "stream",
          "name": "stdout",
          "text": [
            "   년도  지역  총인구(명)  횟수  총기간(일)  최대피해일수\n",
            "0  년도  지역  총인구(명)  횟수  총기간(일)  최대피해일수\n"
          ]
        }
      ]
    },
    {
      "cell_type": "code",
      "source": [
        "#2. 년도별, 지역별 피해지속기간 리스트\n",
        "\n",
        "# 검색할 년도 입력\n",
        "\n",
        "count = 1\n",
        "\n",
        "for year in range(2007,2021):\n",
        "  list1 = location_per_year(year)\n",
        "  for i in list1:\n",
        "    days_list = []\n",
        "    pop_list = []\n",
        "    location_df = Drought_df.loc[(Drought_df['시군구']==i)]\n",
        "    highloc_list = location_df.loc[(location_df['years']==year)]['시도']\n",
        "    days_list = location_df.loc[(location_df['years']==year)]['피해지속기간'].dt.days\n",
        "    pop_list = location_df.loc[(location_df['years']==year)]['피해인구']\n",
        "\n",
        "    length = len(days_list)+1\n",
        "    total = sum(days_list)\n",
        "    longest = max(days_list)\n",
        "    shortest = min(days_list)\n",
        "    pop = max(pop_list)\n",
        "\n",
        "    print(length,total,longest,shortest,pop)\n",
        "    totalpop = max(pop_list)\n",
        "    j = 0\n",
        "    # for j in range(len(days_list)):\n",
        "    #   totalpop += days_list[j] * pop_list[j]\n",
        "    # datas.loc[count]=[year,i,pop,length,total]\n",
        "    count += 1\n",
        "\n",
        "print(datas)\n",
        "  # print(i)\n",
        "  # print(\"\\n총\",length,\"개 지역\\n\",\"최장가뭄지속기간\",longest,\"\\n\",\"최단 가뭄지속기간\",shortest,\"\\n\")\n",
        "  # print(\"\\n총\",total,\"일동안 지속\\n\")\n",
        "  # print(\"평균\",int(total/length),\"일동안 지속\\n\")\n",
        "  # print(\"next\\n\\n\\n\\n\\n\\n\")"
      ],
      "metadata": {
        "id": "8ueC5DQnsrt7"
      },
      "execution_count": null,
      "outputs": []
    },
    {
      "cell_type": "markdown",
      "source": [
        "#3: 지역별 년도통합 자료\n",
        "\n"
      ],
      "metadata": {
        "id": "QfebaDyrFqtr"
      }
    },
    {
      "cell_type": "code",
      "source": [
        "Drought_df['지역명']=Drought_df['시도']+\" \"+Drought_df['시군구']"
      ],
      "metadata": {
        "id": "IGoAMxCJ-clx"
      },
      "execution_count": 7,
      "outputs": []
    },
    {
      "cell_type": "code",
      "source": [
        "is_exist=[]\n",
        "for i in range(len(Drought_df['지역명'])):\n",
        "  if Drought_df['지역명'][i] in is_exist:\n",
        "    continue\n",
        "  else:\n",
        "    is_exist.append(Drought_df['지역명'][i])"
      ],
      "metadata": {
        "id": "YdgQR_VnCVsl"
      },
      "execution_count": 8,
      "outputs": []
    },
    {
      "cell_type": "code",
      "source": [
        "datas = pd.DataFrame(columns=['지역', '총 피해인구(명)', '총 발생건수', '총기간(일)','최대피해일수(건)','최대피해인구(건)'])\n",
        "datas.loc[0]=['지역', '총 피해인구(명)', '총 발생건수', '총기간(일)','최대피해일수(건)','최대피해인구(건)']\n",
        "print(datas)"
      ],
      "metadata": {
        "colab": {
          "base_uri": "https://localhost:8080/"
        },
        "id": "AuXcl_7dKYNs",
        "outputId": "e26559aa-886e-42f3-9210-e0e50ea2e907"
      },
      "execution_count": 9,
      "outputs": [
        {
          "output_type": "stream",
          "name": "stdout",
          "text": [
            "   지역  총 피해인구(명)  총 발생건수  총기간(일)  최대피해일수(건)  최대피해인구(건)\n",
            "0  지역  총 피해인구(명)  총 발생건수  총기간(일)  최대피해일수(건)  최대피해인구(건)\n"
          ]
        }
      ]
    },
    {
      "cell_type": "code",
      "source": [
        "count = 0\n",
        "for i in is_exist:\n",
        "  count += 1\n",
        "  population = Drought_df.loc[(Drought_df['지역명']==i)]['피해인구']\n",
        "  day = Drought_df.loc[(Drought_df['지역명']==i)]['피해지속기간']\n",
        "  totpop = sum(population)\n",
        "  maxpop = max(population)\n",
        "  cases = len(day)\n",
        "\n",
        "  totday = sum(day.dt.days) + cases\n",
        "  maxday = max(day.dt.days) + 1\n",
        "  # print(\"인구\",population,\"\\n날짜\",days,\"\\n건수\",len(days))\n",
        "  print(totpop, totday,len(population),len(day),maxpop,maxday)\n",
        "  datas.loc[count]=[i,totpop,len(day),totday,maxday,maxpop]"
      ],
      "metadata": {
        "id": "GtqAvIfaElx_"
      },
      "execution_count": null,
      "outputs": []
    },
    {
      "cell_type": "code",
      "source": [
        "print(datas)"
      ],
      "metadata": {
        "id": "eerJRWcaLXke"
      },
      "execution_count": null,
      "outputs": []
    },
    {
      "cell_type": "markdown",
      "source": [
        "# 데이터 점수화"
      ],
      "metadata": {
        "id": "-EwSPhyIdxzE"
      }
    },
    {
      "cell_type": "code",
      "source": [
        "datas = datas.drop(0)"
      ],
      "metadata": {
        "id": "J5s2n5IGeHSz"
      },
      "execution_count": 12,
      "outputs": []
    },
    {
      "cell_type": "code",
      "source": [
        "maxcases = max(datas['총 발생건수'])\n",
        "maxpopulation = max(datas['총 피해인구(명)'])\n",
        "maxdays = max(datas['총기간(일)'])"
      ],
      "metadata": {
        "id": "BD95mLVNdxjE"
      },
      "execution_count": 13,
      "outputs": []
    },
    {
      "cell_type": "code",
      "source": [
        "datas['발생건수-백분위'] = datas['총 발생건수']/maxcases\n",
        "datas['피해인구-백분위'] = datas['총 피해인구(명)']/maxpopulation\n",
        "datas['총기간-백분위'] = datas['총기간(일)']/maxdays\n"
      ],
      "metadata": {
        "id": "QzkMosCOfyGD"
      },
      "execution_count": 14,
      "outputs": []
    },
    {
      "cell_type": "code",
      "source": [
        "datas = datas.round({'발생건수-백분위':4,'피해인구-백분위':4,'총기간-백분위':4})"
      ],
      "metadata": {
        "id": "hRlOPyNPgsgP"
      },
      "execution_count": 15,
      "outputs": []
    },
    {
      "cell_type": "code",
      "source": [
        "datas['rank-발생건수'] = datas['발생건수-백분위'].rank(ascending=False)\n",
        "datas['rank-피해인구'] = datas['피해인구-백분위'].rank(ascending=False)\n",
        "datas['rank-총기간'] = datas['총기간-백분위'].rank(ascending=False)\n"
      ],
      "metadata": {
        "id": "aU_aDCSIhMRQ"
      },
      "execution_count": 16,
      "outputs": []
    },
    {
      "cell_type": "code",
      "source": [
        "datas['points'] = datas['발생건수-백분위']*10 + datas['피해인구-백분위']*10 + datas['총기간-백분위']*10"
      ],
      "metadata": {
        "id": "qSHRJpC_i8Hd"
      },
      "execution_count": 17,
      "outputs": []
    },
    {
      "cell_type": "code",
      "source": [
        "datas['RANK'] = datas['points'].rank(ascending=False)"
      ],
      "metadata": {
        "id": "z7PM7fKBiy6J"
      },
      "execution_count": 18,
      "outputs": []
    },
    {
      "cell_type": "code",
      "source": [
        "datas"
      ],
      "metadata": {
        "colab": {
          "base_uri": "https://localhost:8080/",
          "height": 1000
        },
        "id": "oBzrGgLP5W9M",
        "outputId": "621e1a82-a79e-4ed7-de2d-1b9929869c3d"
      },
      "execution_count": 22,
      "outputs": [
        {
          "output_type": "execute_result",
          "data": {
            "text/plain": [
              "          지역 총 피해인구(명) 총 발생건수 총기간(일) 최대피해일수(건) 최대피해인구(건)  발생건수-백분위  피해인구-백분위  \\\n",
              "1   전라남도 완도군     60459     35   5252       364      4978  0.248227  0.366832   \n",
              "2   경상북도 의성군      6847     40    419        92      4018  0.283688  0.041544   \n",
              "3   전라남도 고흥군      3225     20   2286       366      1000  0.141844  0.019568   \n",
              "4    강원도 홍천군      2249     27    397       263      1300  0.191489  0.013646   \n",
              "5   경상남도 의령군       523      6    303        80       158  0.042553  0.003173   \n",
              "..       ...       ...    ...    ...       ...       ...       ...       ...   \n",
              "93  경상남도 밀양시        24      1      1         1        24  0.007092  0.000146   \n",
              "94  전라북도 남원시      1131      7      7         1       357  0.049645  0.006862   \n",
              "95  경상남도 함양군      1831      2      2         1      1783  0.014184  0.011109   \n",
              "96  경상북도 문경시        20      1      1         1        20  0.007092  0.000121   \n",
              "97  경상남도 거제시        90      1    381       381        90  0.007092  0.000546   \n",
              "\n",
              "     총기간-백분위  rank-발생건수  rank-피해인구  rank-총기간     points  RANK  \n",
              "1   0.699521       15.0        2.0       2.0  13.145792   2.0  \n",
              "2   0.055807       13.5       12.0      27.0   3.810389  19.0  \n",
              "3   0.304475       24.5       18.0       5.0   4.658867  15.0  \n",
              "4   0.052877       21.0       29.0      29.0    2.58012  25.0  \n",
              "5   0.040357       54.0       53.0      39.0   0.860834  48.0  \n",
              "..       ...        ...        ...       ...        ...   ...  \n",
              "93  0.000133       92.5       94.0      96.0    0.07371  96.0  \n",
              "94  0.000932       50.5       37.0      85.5     0.5744  59.0  \n",
              "95  0.000266       82.5       30.0      92.5   0.255603  86.0  \n",
              "96  0.000133       92.5       96.0      96.0   0.073467  97.0  \n",
              "97  0.050746       92.5       84.0      30.0   0.583841  58.0  \n",
              "\n",
              "[97 rows x 14 columns]"
            ],
            "text/html": [
              "\n",
              "  <div id=\"df-19105e55-2dc5-4200-8a51-4c51ee1bd2b2\">\n",
              "    <div class=\"colab-df-container\">\n",
              "      <div>\n",
              "<style scoped>\n",
              "    .dataframe tbody tr th:only-of-type {\n",
              "        vertical-align: middle;\n",
              "    }\n",
              "\n",
              "    .dataframe tbody tr th {\n",
              "        vertical-align: top;\n",
              "    }\n",
              "\n",
              "    .dataframe thead th {\n",
              "        text-align: right;\n",
              "    }\n",
              "</style>\n",
              "<table border=\"1\" class=\"dataframe\">\n",
              "  <thead>\n",
              "    <tr style=\"text-align: right;\">\n",
              "      <th></th>\n",
              "      <th>지역</th>\n",
              "      <th>총 피해인구(명)</th>\n",
              "      <th>총 발생건수</th>\n",
              "      <th>총기간(일)</th>\n",
              "      <th>최대피해일수(건)</th>\n",
              "      <th>최대피해인구(건)</th>\n",
              "      <th>발생건수-백분위</th>\n",
              "      <th>피해인구-백분위</th>\n",
              "      <th>총기간-백분위</th>\n",
              "      <th>rank-발생건수</th>\n",
              "      <th>rank-피해인구</th>\n",
              "      <th>rank-총기간</th>\n",
              "      <th>points</th>\n",
              "      <th>RANK</th>\n",
              "    </tr>\n",
              "  </thead>\n",
              "  <tbody>\n",
              "    <tr>\n",
              "      <th>1</th>\n",
              "      <td>전라남도 완도군</td>\n",
              "      <td>60459</td>\n",
              "      <td>35</td>\n",
              "      <td>5252</td>\n",
              "      <td>364</td>\n",
              "      <td>4978</td>\n",
              "      <td>0.248227</td>\n",
              "      <td>0.366832</td>\n",
              "      <td>0.699521</td>\n",
              "      <td>15.0</td>\n",
              "      <td>2.0</td>\n",
              "      <td>2.0</td>\n",
              "      <td>13.145792</td>\n",
              "      <td>2.0</td>\n",
              "    </tr>\n",
              "    <tr>\n",
              "      <th>2</th>\n",
              "      <td>경상북도 의성군</td>\n",
              "      <td>6847</td>\n",
              "      <td>40</td>\n",
              "      <td>419</td>\n",
              "      <td>92</td>\n",
              "      <td>4018</td>\n",
              "      <td>0.283688</td>\n",
              "      <td>0.041544</td>\n",
              "      <td>0.055807</td>\n",
              "      <td>13.5</td>\n",
              "      <td>12.0</td>\n",
              "      <td>27.0</td>\n",
              "      <td>3.810389</td>\n",
              "      <td>19.0</td>\n",
              "    </tr>\n",
              "    <tr>\n",
              "      <th>3</th>\n",
              "      <td>전라남도 고흥군</td>\n",
              "      <td>3225</td>\n",
              "      <td>20</td>\n",
              "      <td>2286</td>\n",
              "      <td>366</td>\n",
              "      <td>1000</td>\n",
              "      <td>0.141844</td>\n",
              "      <td>0.019568</td>\n",
              "      <td>0.304475</td>\n",
              "      <td>24.5</td>\n",
              "      <td>18.0</td>\n",
              "      <td>5.0</td>\n",
              "      <td>4.658867</td>\n",
              "      <td>15.0</td>\n",
              "    </tr>\n",
              "    <tr>\n",
              "      <th>4</th>\n",
              "      <td>강원도 홍천군</td>\n",
              "      <td>2249</td>\n",
              "      <td>27</td>\n",
              "      <td>397</td>\n",
              "      <td>263</td>\n",
              "      <td>1300</td>\n",
              "      <td>0.191489</td>\n",
              "      <td>0.013646</td>\n",
              "      <td>0.052877</td>\n",
              "      <td>21.0</td>\n",
              "      <td>29.0</td>\n",
              "      <td>29.0</td>\n",
              "      <td>2.58012</td>\n",
              "      <td>25.0</td>\n",
              "    </tr>\n",
              "    <tr>\n",
              "      <th>5</th>\n",
              "      <td>경상남도 의령군</td>\n",
              "      <td>523</td>\n",
              "      <td>6</td>\n",
              "      <td>303</td>\n",
              "      <td>80</td>\n",
              "      <td>158</td>\n",
              "      <td>0.042553</td>\n",
              "      <td>0.003173</td>\n",
              "      <td>0.040357</td>\n",
              "      <td>54.0</td>\n",
              "      <td>53.0</td>\n",
              "      <td>39.0</td>\n",
              "      <td>0.860834</td>\n",
              "      <td>48.0</td>\n",
              "    </tr>\n",
              "    <tr>\n",
              "      <th>...</th>\n",
              "      <td>...</td>\n",
              "      <td>...</td>\n",
              "      <td>...</td>\n",
              "      <td>...</td>\n",
              "      <td>...</td>\n",
              "      <td>...</td>\n",
              "      <td>...</td>\n",
              "      <td>...</td>\n",
              "      <td>...</td>\n",
              "      <td>...</td>\n",
              "      <td>...</td>\n",
              "      <td>...</td>\n",
              "      <td>...</td>\n",
              "      <td>...</td>\n",
              "    </tr>\n",
              "    <tr>\n",
              "      <th>93</th>\n",
              "      <td>경상남도 밀양시</td>\n",
              "      <td>24</td>\n",
              "      <td>1</td>\n",
              "      <td>1</td>\n",
              "      <td>1</td>\n",
              "      <td>24</td>\n",
              "      <td>0.007092</td>\n",
              "      <td>0.000146</td>\n",
              "      <td>0.000133</td>\n",
              "      <td>92.5</td>\n",
              "      <td>94.0</td>\n",
              "      <td>96.0</td>\n",
              "      <td>0.07371</td>\n",
              "      <td>96.0</td>\n",
              "    </tr>\n",
              "    <tr>\n",
              "      <th>94</th>\n",
              "      <td>전라북도 남원시</td>\n",
              "      <td>1131</td>\n",
              "      <td>7</td>\n",
              "      <td>7</td>\n",
              "      <td>1</td>\n",
              "      <td>357</td>\n",
              "      <td>0.049645</td>\n",
              "      <td>0.006862</td>\n",
              "      <td>0.000932</td>\n",
              "      <td>50.5</td>\n",
              "      <td>37.0</td>\n",
              "      <td>85.5</td>\n",
              "      <td>0.5744</td>\n",
              "      <td>59.0</td>\n",
              "    </tr>\n",
              "    <tr>\n",
              "      <th>95</th>\n",
              "      <td>경상남도 함양군</td>\n",
              "      <td>1831</td>\n",
              "      <td>2</td>\n",
              "      <td>2</td>\n",
              "      <td>1</td>\n",
              "      <td>1783</td>\n",
              "      <td>0.014184</td>\n",
              "      <td>0.011109</td>\n",
              "      <td>0.000266</td>\n",
              "      <td>82.5</td>\n",
              "      <td>30.0</td>\n",
              "      <td>92.5</td>\n",
              "      <td>0.255603</td>\n",
              "      <td>86.0</td>\n",
              "    </tr>\n",
              "    <tr>\n",
              "      <th>96</th>\n",
              "      <td>경상북도 문경시</td>\n",
              "      <td>20</td>\n",
              "      <td>1</td>\n",
              "      <td>1</td>\n",
              "      <td>1</td>\n",
              "      <td>20</td>\n",
              "      <td>0.007092</td>\n",
              "      <td>0.000121</td>\n",
              "      <td>0.000133</td>\n",
              "      <td>92.5</td>\n",
              "      <td>96.0</td>\n",
              "      <td>96.0</td>\n",
              "      <td>0.073467</td>\n",
              "      <td>97.0</td>\n",
              "    </tr>\n",
              "    <tr>\n",
              "      <th>97</th>\n",
              "      <td>경상남도 거제시</td>\n",
              "      <td>90</td>\n",
              "      <td>1</td>\n",
              "      <td>381</td>\n",
              "      <td>381</td>\n",
              "      <td>90</td>\n",
              "      <td>0.007092</td>\n",
              "      <td>0.000546</td>\n",
              "      <td>0.050746</td>\n",
              "      <td>92.5</td>\n",
              "      <td>84.0</td>\n",
              "      <td>30.0</td>\n",
              "      <td>0.583841</td>\n",
              "      <td>58.0</td>\n",
              "    </tr>\n",
              "  </tbody>\n",
              "</table>\n",
              "<p>97 rows × 14 columns</p>\n",
              "</div>\n",
              "      <button class=\"colab-df-convert\" onclick=\"convertToInteractive('df-19105e55-2dc5-4200-8a51-4c51ee1bd2b2')\"\n",
              "              title=\"Convert this dataframe to an interactive table.\"\n",
              "              style=\"display:none;\">\n",
              "        \n",
              "  <svg xmlns=\"http://www.w3.org/2000/svg\" height=\"24px\"viewBox=\"0 0 24 24\"\n",
              "       width=\"24px\">\n",
              "    <path d=\"M0 0h24v24H0V0z\" fill=\"none\"/>\n",
              "    <path d=\"M18.56 5.44l.94 2.06.94-2.06 2.06-.94-2.06-.94-.94-2.06-.94 2.06-2.06.94zm-11 1L8.5 8.5l.94-2.06 2.06-.94-2.06-.94L8.5 2.5l-.94 2.06-2.06.94zm10 10l.94 2.06.94-2.06 2.06-.94-2.06-.94-.94-2.06-.94 2.06-2.06.94z\"/><path d=\"M17.41 7.96l-1.37-1.37c-.4-.4-.92-.59-1.43-.59-.52 0-1.04.2-1.43.59L10.3 9.45l-7.72 7.72c-.78.78-.78 2.05 0 2.83L4 21.41c.39.39.9.59 1.41.59.51 0 1.02-.2 1.41-.59l7.78-7.78 2.81-2.81c.8-.78.8-2.07 0-2.86zM5.41 20L4 18.59l7.72-7.72 1.47 1.35L5.41 20z\"/>\n",
              "  </svg>\n",
              "      </button>\n",
              "      \n",
              "  <style>\n",
              "    .colab-df-container {\n",
              "      display:flex;\n",
              "      flex-wrap:wrap;\n",
              "      gap: 12px;\n",
              "    }\n",
              "\n",
              "    .colab-df-convert {\n",
              "      background-color: #E8F0FE;\n",
              "      border: none;\n",
              "      border-radius: 50%;\n",
              "      cursor: pointer;\n",
              "      display: none;\n",
              "      fill: #1967D2;\n",
              "      height: 32px;\n",
              "      padding: 0 0 0 0;\n",
              "      width: 32px;\n",
              "    }\n",
              "\n",
              "    .colab-df-convert:hover {\n",
              "      background-color: #E2EBFA;\n",
              "      box-shadow: 0px 1px 2px rgba(60, 64, 67, 0.3), 0px 1px 3px 1px rgba(60, 64, 67, 0.15);\n",
              "      fill: #174EA6;\n",
              "    }\n",
              "\n",
              "    [theme=dark] .colab-df-convert {\n",
              "      background-color: #3B4455;\n",
              "      fill: #D2E3FC;\n",
              "    }\n",
              "\n",
              "    [theme=dark] .colab-df-convert:hover {\n",
              "      background-color: #434B5C;\n",
              "      box-shadow: 0px 1px 3px 1px rgba(0, 0, 0, 0.15);\n",
              "      filter: drop-shadow(0px 1px 2px rgba(0, 0, 0, 0.3));\n",
              "      fill: #FFFFFF;\n",
              "    }\n",
              "  </style>\n",
              "\n",
              "      <script>\n",
              "        const buttonEl =\n",
              "          document.querySelector('#df-19105e55-2dc5-4200-8a51-4c51ee1bd2b2 button.colab-df-convert');\n",
              "        buttonEl.style.display =\n",
              "          google.colab.kernel.accessAllowed ? 'block' : 'none';\n",
              "\n",
              "        async function convertToInteractive(key) {\n",
              "          const element = document.querySelector('#df-19105e55-2dc5-4200-8a51-4c51ee1bd2b2');\n",
              "          const dataTable =\n",
              "            await google.colab.kernel.invokeFunction('convertToInteractive',\n",
              "                                                     [key], {});\n",
              "          if (!dataTable) return;\n",
              "\n",
              "          const docLinkHtml = 'Like what you see? Visit the ' +\n",
              "            '<a target=\"_blank\" href=https://colab.research.google.com/notebooks/data_table.ipynb>data table notebook</a>'\n",
              "            + ' to learn more about interactive tables.';\n",
              "          element.innerHTML = '';\n",
              "          dataTable['output_type'] = 'display_data';\n",
              "          await google.colab.output.renderOutput(dataTable, element);\n",
              "          const docLink = document.createElement('div');\n",
              "          docLink.innerHTML = docLinkHtml;\n",
              "          element.appendChild(docLink);\n",
              "        }\n",
              "      </script>\n",
              "    </div>\n",
              "  </div>\n",
              "  "
            ]
          },
          "metadata": {},
          "execution_count": 22
        }
      ]
    },
    {
      "cell_type": "code",
      "source": [
        "datas1 = datas.sort_values(by=['RANK'],axis=0)"
      ],
      "metadata": {
        "id": "TpIGKw8J5aLQ"
      },
      "execution_count": 24,
      "outputs": []
    },
    {
      "cell_type": "code",
      "source": [
        "datas1"
      ],
      "metadata": {
        "id": "0cXyVHga5n67"
      },
      "execution_count": null,
      "outputs": []
    },
    {
      "cell_type": "markdown",
      "source": [
        "# 데이터 자료화"
      ],
      "metadata": {
        "id": "f_gim-4tduIR"
      }
    },
    {
      "cell_type": "code",
      "source": [
        "# datas.to_csv('/content/drive/MyDrive/K-water/datas.csv',header=False,index=False,encoding='utf-8-sig')\n",
        "datas1.to_csv('/content/drive/MyDrive/K-water/rankingdatas.csv',header=False,index=False,encoding='utf-8-sig')"
      ],
      "metadata": {
        "id": "L-RL_sV5gvr5"
      },
      "execution_count": 26,
      "outputs": []
    }
  ]
}